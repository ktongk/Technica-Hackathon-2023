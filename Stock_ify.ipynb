{
  "cells": [
    {
      "cell_type": "markdown",
      "metadata": {
        "id": "view-in-github",
        "colab_type": "text"
      },
      "source": [
        "<a href=\"https://colab.research.google.com/github/ktongk/Technica-Hackathon-2023/blob/main/Stock_ify.ipynb\" target=\"_parent\"><img src=\"https://colab.research.google.com/assets/colab-badge.svg\" alt=\"Open In Colab\"/></a>"
      ]
    },
    {
      "cell_type": "markdown",
      "metadata": {
        "id": "J3fwiESMAIVK"
      },
      "source": [
        "Stockify\n",
        "    #Stock Market Simulator - Python, numpy, and pandas\n",
        "    # Creators: Sanjana Suresh, Katrina Tong, Krishita Laungani, Amanda Tong\n",
        "     \n",
        "    # User input - pick up to 3 stocks\n",
        "    # Calculator - Balance after selecting stocks (start with income) based on performance and number of stocks owned.\n",
        "    # Random Generator - Pick which stocks perform well (range - day 8), based on the df of each stock's past trends (day 7) --Also randomly generated.  \n",
        "      # If day 8 $ > day 7 $ = profit\n",
        "        # else: loss\n",
        "        # if equal, breakeven\n",
        "\n",
        "\n",
        "    # List of stocks we are using and price:\n",
        "    # 1. Apple\n",
        "    # 2. Amazon\n",
        "    # 3. Google\n",
        "    # 4. Meta\n",
        "    # 5. Microsoft"
      ]
    },
    {
      "cell_type": "code",
      "execution_count": null,
      "metadata": {
        "id": "VXNdqugAJ6Fu"
      },
      "outputs": [],
      "source": [
        "# Start of the game ATM simulator\n",
        "import random\n",
        "\n",
        "old_bal = random.randint(2500,5000)\n",
        "print(\"It's payday! You just earned: $\", old_bal)"
      ]
    },
    {
      "cell_type": "code",
      "execution_count": null,
      "metadata": {
        "id": "Gw6SuIB_i-n_"
      },
      "outputs": [],
      "source": [
        "# Educate - What are Ticker symbols?\n",
        "\n",
        "ticker = {\"Apple\": \"AAPL\",\"Amazon\": \"AMZN\",\"Google\": \"GOOGL\",\"Meta\":\n",
        "          \"FB\",\"Microsoft\": \"MSFT\",\"Tesla\": \"TSLA\"\n",
        "          }\n",
        "\n",
        "print(\"Did you know: A stock symbol, or a Ticker, is the unique symbol that represents a company's stock.\")\n",
        "print(\"\\nHere is a list of some popular stocks and their Tickers:\")\n",
        "\n",
        "for i, (company, stock) in enumerate(ticker.items(), start=1):\n",
        "    print(f\"{i}. {company} - {stock}\")"
      ]
    },
    {
      "cell_type": "code",
      "execution_count": null,
      "metadata": {
        "id": "eVPGE99rlRUK"
      },
      "outputs": [],
      "source": [
        "# Dataframe - 7 Day dataframe of prices for 7 days\n",
        "\n",
        "import pandas as pd\n",
        "import numpy as np\n",
        "\n",
        "\n",
        "days = ['Day 1', 'Day 2', 'Day 3', 'Day 4', 'Day 5', 'Day 6', 'Day 7']\n",
        "names = ['APPL', 'AMZN', 'GOOGL', 'FB', 'MSFT', 'TSLA']\n",
        "name_ranges = {'APPL': (500, 1000),\n",
        "               'AMZN': (0, 200),\n",
        "               'GOOGL': (800, 1300),\n",
        "               'FB': (200, 700),\n",
        "               'MSFT': (400, 900),\n",
        "               'TSLA': (1300, 1500)}\n",
        "\n",
        "df = pd.DataFrame(index = names, columns = days)\n",
        "\n",
        "# inserting the data into the df\n",
        "for company in names:\n",
        "  for day in days:\n",
        "    range_min, range_max = name_ranges[company]\n",
        "    df.loc[company, :] = np.random.randint(range_min, range_max + 1, size = len(days))\n",
        "\n",
        "df\n"
      ]
    },
    {
      "cell_type": "code",
      "execution_count": null,
      "metadata": {
        "id": "PQL8j6lwARzT"
      },
      "outputs": [],
      "source": [
        "3# Random Generator - Calculate performance of stocks\n",
        "\n",
        "import random\n",
        "\n",
        "# getting last day data\n",
        "last_day = df.loc[:, 'Day 7'].to_dict()\n",
        "ori_price = {}\n",
        "for company in names:\n",
        "  range_min, range_max = name_ranges[company]\n",
        "  company_price = np.random.randint(range_min, range_max)\n",
        "  # add a value associated with the company name\n",
        "  ori_price[company] = company_price\n",
        "\n",
        "# calculate price change\n",
        "price = []\n",
        "for company in ori_price:\n",
        "  price.append(ori_price[company] - last_day[company])\n",
        "\n",
        "# dict for companies\n",
        "companies = {\"AAPL\": price[0],\"AMZN\": price[1],\"GOOGL\": price[2],\"FB\": price[3],\"MSFT\": price[4],\"TSLA\": price[5]}\n",
        "\n",
        "# Prompt the user to choose 3 items\n",
        "print(\"Choose the 3 stocks you would from the list and the corresponding amount of stocks (1-5):\")\n",
        "for i, company in enumerate(companies.keys(), start=1):\n",
        "    print(f\"{i}. {company}\")\n",
        "\n",
        "chosen_items = []\n",
        "price_items = []\n",
        "for _ in range(3):\n",
        "  try: # number inputted has to be between 1-6\n",
        "    choice = int(input(\"Enter the number of the stock you want to buy: \"))\n",
        "    if 1 <= choice <= 6:\n",
        "      amount = int(input(\"Enter the amount of shares (1-5): \\n\"))\n",
        "      if 1 <= amount <= 5:\n",
        "        chosen_items.append(list(companies.keys())[choice - 1])\n",
        "        price_of_stocks = amount * companies[chosen_items[-1]]\n",
        "        price_items.append(price_of_stocks)\n",
        "\n",
        "      else: # If number entered not in range\n",
        "        print(\"Invalid input. Please enter a number between 1 through 5.\")\n",
        "    else:\n",
        "      print(\"Invalid choice. Please choose a number between 1 and 6.\")\n",
        "\n",
        "  except ValueError: #If any other character entered\n",
        "      print(\"Invalid input. Please enter a number.\")\n",
        "#-------------------------------------------------------------------------------\n",
        "\n",
        "# Print the random numbers for the chosen items\n",
        "\n",
        "# dictionary containing stock price changes\n",
        "stock_prices = {}\n",
        "for i, item in enumerate(chosen_items, start=1):\n",
        "  print(f\"\\nResults:\\n{item} \\nprice change: {companies[item]}\")\n",
        "  print(f\"Amount gained or lost for\\n{item}: {price_items[i - 1]}\")\n",
        "  stock_prices[f\"stock{i}\"] = price_items[i - 1]\n",
        "\n",
        "# run calculator\n",
        "def calculator(old_bal, stock_prices):\n",
        "  # stock1 2 and 3 are the price changes throughout the days\n",
        "  # old_bal is the balance taken in\n",
        "  # new_bal is the balance returned\n",
        "\n",
        "  #calculation\n",
        "  new_bal = old_bal + sum(stock_prices.values())\n",
        "  return new_bal\n",
        "\n",
        "new_bal = calculator(old_bal, stock_prices)\n",
        "print(\"New Balance: \", new_bal)"
      ]
    },
    {
      "cell_type": "code",
      "execution_count": null,
      "metadata": {
        "id": "uBZI0d9ejS-s"
      },
      "outputs": [],
      "source": [
        "# Calculate profit or loss\n",
        "\n",
        "if(new_bal>old_bal): # profit\n",
        "  print(\"Congratulations! You just earned a profit of: $\", new_bal-old_bal)\n",
        "\n",
        "elif(old_bal>new_bal): # loss\n",
        "  print(\"Tough Luck! You have made a loss of: $\", old_bal-new_bal)\n",
        "\n",
        "elif(old_bal==new_bal): #breakeven\n",
        "  print(\"It's a stagnant day...you are at breakeven! This means you have neither made a profit nor experienced a loss\")"
      ]
    },
    {
      "cell_type": "markdown",
      "metadata": {
        "id": "htUlpgZs-X4O"
      },
      "source": [
        "      UI/UX prototype:\n",
        "        - home screen with two options: play ATM simulator or Stock Market Simulator\n",
        "        - In Stock Market simulator: if the user's choice matches the random's generators choice, its a profit; else loss. In game end, calculate earning.\n",
        "        - ATM simulator: Withdraw cash for salary"
      ]
    }
  ],
  "metadata": {
    "colab": {
      "provenance": [],
      "include_colab_link": true
    },
    "kernelspec": {
      "display_name": "Python 3",
      "name": "python3"
    },
    "language_info": {
      "name": "python"
    }
  },
  "nbformat": 4,
  "nbformat_minor": 0
}